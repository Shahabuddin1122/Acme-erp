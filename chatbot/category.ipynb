{
 "cells": [
  {
   "cell_type": "code",
   "id": "initial_id",
   "metadata": {
    "collapsed": true,
    "ExecuteTime": {
     "end_time": "2024-11-15T08:31:16.759418Z",
     "start_time": "2024-11-15T08:30:59.807834Z"
    }
   },
   "source": [
    "from chromadb import PersistentClient\n",
    "from sentence_transformers import SentenceTransformer\n"
   ],
   "outputs": [
    {
     "name": "stderr",
     "output_type": "stream",
     "text": [
      "C:\\Users\\shahabuddin akhon hr\\AppData\\Roaming\\Python\\Python312\\site-packages\\sentence_transformers\\cross_encoder\\CrossEncoder.py:13: TqdmExperimentalWarning: Using `tqdm.autonotebook.tqdm` in notebook mode. Use `tqdm.tqdm` instead to force console mode (e.g. in jupyter console)\n",
      "  from tqdm.autonotebook import tqdm, trange\n"
     ]
    },
    {
     "name": "stdout",
     "output_type": "stream",
     "text": [
      "WARNING:tensorflow:From C:\\Users\\shahabuddin akhon hr\\AppData\\Roaming\\Python\\Python312\\site-packages\\tf_keras\\src\\losses.py:2976: The name tf.losses.sparse_softmax_cross_entropy is deprecated. Please use tf.compat.v1.losses.sparse_softmax_cross_entropy instead.\n",
      "\n"
     ]
    }
   ],
   "execution_count": 1
  },
  {
   "metadata": {
    "ExecuteTime": {
     "end_time": "2024-11-15T08:31:49.855599Z",
     "start_time": "2024-11-15T08:31:49.354077Z"
    }
   },
   "cell_type": "code",
   "source": [
    "client = PersistentClient(path='vectordb_category')\n",
    "collection = client.get_or_create_collection(name='category')\n"
   ],
   "id": "7385b0114b61f689",
   "outputs": [],
   "execution_count": 2
  },
  {
   "metadata": {
    "ExecuteTime": {
     "end_time": "2024-11-15T08:31:54.914235Z",
     "start_time": "2024-11-15T08:31:50.824983Z"
    }
   },
   "cell_type": "code",
   "source": "embedding_model = SentenceTransformer(\"all-MiniLM-L6-v2\")\n",
   "id": "a64c8768444e0569",
   "outputs": [
    {
     "name": "stderr",
     "output_type": "stream",
     "text": [
      "C:\\Users\\shahabuddin akhon hr\\AppData\\Roaming\\Python\\Python312\\site-packages\\transformers\\tokenization_utils_base.py:1617: FutureWarning: `clean_up_tokenization_spaces` was not set. It will be set to `True` by default. This behavior will be deprecated in transformers v4.45, and will be then set to `False` by default. For more details check this issue: https://github.com/huggingface/transformers/issues/31884\n",
      "  warnings.warn(\n"
     ]
    }
   ],
   "execution_count": 3
  },
  {
   "metadata": {
    "ExecuteTime": {
     "end_time": "2024-11-15T08:31:56.803Z",
     "start_time": "2024-11-15T08:31:56.798937Z"
    }
   },
   "cell_type": "code",
   "source": [
    "# Sample document content\n",
    "document_text = \"\"\"\n",
    "Organization Structure & Establishment\n",
    "Manpower Planning\n",
    "Succession Planning & Organization Review\n",
    "Minimum Standards for Employment\n",
    "Definition of Employment Status\n",
    "Recruitment and Selection\n",
    "Equal Employment Opportunity\n",
    "Employment Interview\n",
    "Pre-Placement Medical Examination\n",
    "Reference Checking\n",
    "Job Contract Contractor\n",
    "New Employee Orientation\n",
    "Employee Responsibilities & Obligations\n",
    "Standards of Conduct\n",
    "Conflict of Interest\n",
    "Attendance\n",
    "Safety\n",
    "Smoking in the Workplace\n",
    "Employee Counseling and Assistance\n",
    "Communication\n",
    "Suggestions/Ideas\n",
    "Participation Committee/Welfare Committee\n",
    "Objectives of the Committees\n",
    "Grievance Procedure\n",
    "Employee Relations\n",
    "Performance Management – Management Staff\n",
    "Training and Development\n",
    "Employees Records Privacy and Retention\n",
    "Reports, Information, and HRIS\n",
    "Compensation & Benefits\n",
    "Salary Administration\n",
    "Incentive Scheme Plan\n",
    "Loan Facilities\n",
    "Medical Benefits\n",
    "Provident Fund\n",
    "Gratuity\n",
    "Group Term & Hospital Insurance\n",
    "Car Scheme\n",
    "Transfer & Transfer Expenses\n",
    "Travel\n",
    "Standard Service Year\n",
    "Leave Entitlement\n",
    "Annual Leave\n",
    "Sick/Prolonged/Accident Leave\n",
    "Casual Leave\n",
    "Maternity Leave\n",
    "Leave Without Pay (LWP) & Unauthorized Absence\n",
    "Leave Encashment\n",
    "Over-Staying of Leave / Loss of Lien\n",
    "Employee Discipline\n",
    "Suspensions\n",
    "Compliance & Regulatory Affairs\n",
    "Stoppage of Works\n",
    "Lay Off\n",
    "Employee Separations\n",
    "Resignation\n",
    "Termination\n",
    "Dismissal\n",
    "Discharge\n",
    "Deceased Employees\n",
    "Retirement\n",
    "Redundancy\n",
    "Exit Interview\n",
    "\"\"\""
   ],
   "id": "35c997c7e37f5c8c",
   "outputs": [],
   "execution_count": 4
  },
  {
   "metadata": {
    "ExecuteTime": {
     "end_time": "2024-11-15T08:31:57.899363Z",
     "start_time": "2024-11-15T08:31:57.895322Z"
    }
   },
   "cell_type": "code",
   "source": "texts = document_text.strip().split('\\n')\n",
   "id": "af90c3c61fb6b255",
   "outputs": [],
   "execution_count": 5
  },
  {
   "metadata": {
    "ExecuteTime": {
     "end_time": "2024-11-15T08:31:58.834778Z",
     "start_time": "2024-11-15T08:31:58.453886Z"
    }
   },
   "cell_type": "code",
   "source": "embeddings = embedding_model.encode(texts)",
   "id": "d2959bd1ff13240a",
   "outputs": [],
   "execution_count": 6
  },
  {
   "metadata": {
    "ExecuteTime": {
     "end_time": "2024-11-15T08:32:01.794137Z",
     "start_time": "2024-11-15T08:32:01.429822Z"
    }
   },
   "cell_type": "code",
   "source": [
    "for i, text in enumerate(texts):\n",
    "    collection.add(\n",
    "        ids=[str(i)],  # Unique ID for each chunk\n",
    "        documents=[text],\n",
    "        embeddings=[embeddings[i]],\n",
    "        metadatas=[{'source': 'category.txt'}]  # Replace with any metadata you need\n",
    "    )\n",
    "\n",
    "print(\"Document chunks have been added to ChromaDB successfully.\")"
   ],
   "id": "6104298209902467",
   "outputs": [
    {
     "name": "stdout",
     "output_type": "stream",
     "text": [
      "Document chunks have been added to ChromaDB successfully.\n"
     ]
    }
   ],
   "execution_count": 7
  },
  {
   "metadata": {
    "ExecuteTime": {
     "end_time": "2024-11-15T08:32:08.704366Z",
     "start_time": "2024-11-15T08:32:08.418048Z"
    }
   },
   "cell_type": "code",
   "source": [
    "retriever = collection.query(\n",
    "    query_texts=[\"Tell me something about company\"],  # Your query\n",
    "    n_results=2  # Number of results you want\n",
    ")\n",
    "print(retriever['documents'][0][0])"
   ],
   "id": "7ea9836f124a05ef",
   "outputs": [
    {
     "name": "stdout",
     "output_type": "stream",
     "text": [
      "Organization Structure & Establishment\n"
     ]
    }
   ],
   "execution_count": 8
  },
  {
   "metadata": {},
   "cell_type": "code",
   "outputs": [],
   "execution_count": null,
   "source": "",
   "id": "4122ee3a37e09a9f"
  }
 ],
 "metadata": {
  "kernelspec": {
   "display_name": "Python 3",
   "language": "python",
   "name": "python3"
  },
  "language_info": {
   "codemirror_mode": {
    "name": "ipython",
    "version": 2
   },
   "file_extension": ".py",
   "mimetype": "text/x-python",
   "name": "python",
   "nbconvert_exporter": "python",
   "pygments_lexer": "ipython2",
   "version": "2.7.6"
  }
 },
 "nbformat": 4,
 "nbformat_minor": 5
}
