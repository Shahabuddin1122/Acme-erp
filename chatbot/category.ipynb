{
 "cells": [
  {
   "cell_type": "code",
   "id": "initial_id",
   "metadata": {
    "collapsed": true,
    "ExecuteTime": {
     "end_time": "2024-11-15T05:28:12.891670Z",
     "start_time": "2024-11-15T05:27:55.876596Z"
    }
   },
   "source": [
    "from chromadb import PersistentClient\n",
    "from sentence_transformers import SentenceTransformer\n"
   ],
   "outputs": [
    {
     "name": "stderr",
     "output_type": "stream",
     "text": [
      "C:\\Users\\shahabuddin akhon hr\\AppData\\Roaming\\Python\\Python312\\site-packages\\sentence_transformers\\cross_encoder\\CrossEncoder.py:13: TqdmExperimentalWarning: Using `tqdm.autonotebook.tqdm` in notebook mode. Use `tqdm.tqdm` instead to force console mode (e.g. in jupyter console)\n",
      "  from tqdm.autonotebook import tqdm, trange\n"
     ]
    },
    {
     "name": "stdout",
     "output_type": "stream",
     "text": [
      "WARNING:tensorflow:From C:\\Users\\shahabuddin akhon hr\\AppData\\Roaming\\Python\\Python312\\site-packages\\tf_keras\\src\\losses.py:2976: The name tf.losses.sparse_softmax_cross_entropy is deprecated. Please use tf.compat.v1.losses.sparse_softmax_cross_entropy instead.\n",
      "\n"
     ]
    }
   ],
   "execution_count": 1
  },
  {
   "metadata": {
    "ExecuteTime": {
     "end_time": "2024-11-15T05:30:33.055887Z",
     "start_time": "2024-11-15T05:30:32.850213Z"
    }
   },
   "cell_type": "code",
   "source": [
    "client = PersistentClient(path='vectordb')\n",
    "collection = client.get_or_create_collection(name='category')\n"
   ],
   "id": "7385b0114b61f689",
   "outputs": [],
   "execution_count": 2
  },
  {
   "metadata": {
    "ExecuteTime": {
     "end_time": "2024-11-15T05:31:37.902188Z",
     "start_time": "2024-11-15T05:30:40.495991Z"
    }
   },
   "cell_type": "code",
   "source": "embedding_model = SentenceTransformer(\"all-MiniLM-L6-v2\")\n",
   "id": "a64c8768444e0569",
   "outputs": [
    {
     "data": {
      "text/plain": [
       "modules.json:   0%|          | 0.00/349 [00:00<?, ?B/s]"
      ],
      "application/vnd.jupyter.widget-view+json": {
       "version_major": 2,
       "version_minor": 0,
       "model_id": "5c9ab7615c4d43a1b4cab0b51540ef01"
      }
     },
     "metadata": {},
     "output_type": "display_data"
    },
    {
     "name": "stderr",
     "output_type": "stream",
     "text": [
      "C:\\Users\\shahabuddin akhon hr\\AppData\\Roaming\\Python\\Python312\\site-packages\\huggingface_hub\\file_download.py:147: UserWarning: `huggingface_hub` cache-system uses symlinks by default to efficiently store duplicated files but your machine does not support them in C:\\Users\\shahabuddin akhon hr\\.cache\\huggingface\\hub\\models--sentence-transformers--all-MiniLM-L6-v2. Caching files will still work but in a degraded version that might require more space on your disk. This warning can be disabled by setting the `HF_HUB_DISABLE_SYMLINKS_WARNING` environment variable. For more details, see https://huggingface.co/docs/huggingface_hub/how-to-cache#limitations.\n",
      "To support symlinks on Windows, you either need to activate Developer Mode or to run Python as an administrator. In order to activate developer mode, see this article: https://docs.microsoft.com/en-us/windows/apps/get-started/enable-your-device-for-development\n",
      "  warnings.warn(message)\n"
     ]
    },
    {
     "data": {
      "text/plain": [
       "config_sentence_transformers.json:   0%|          | 0.00/116 [00:00<?, ?B/s]"
      ],
      "application/vnd.jupyter.widget-view+json": {
       "version_major": 2,
       "version_minor": 0,
       "model_id": "b21d72e22360428c8f14132c835b2bb5"
      }
     },
     "metadata": {},
     "output_type": "display_data"
    },
    {
     "data": {
      "text/plain": [
       "README.md:   0%|          | 0.00/10.7k [00:00<?, ?B/s]"
      ],
      "application/vnd.jupyter.widget-view+json": {
       "version_major": 2,
       "version_minor": 0,
       "model_id": "97a8b786def14ec58536911c0f37fc9c"
      }
     },
     "metadata": {},
     "output_type": "display_data"
    },
    {
     "data": {
      "text/plain": [
       "sentence_bert_config.json:   0%|          | 0.00/53.0 [00:00<?, ?B/s]"
      ],
      "application/vnd.jupyter.widget-view+json": {
       "version_major": 2,
       "version_minor": 0,
       "model_id": "666da2918940444692d5797e8deeb77c"
      }
     },
     "metadata": {},
     "output_type": "display_data"
    },
    {
     "data": {
      "text/plain": [
       "config.json:   0%|          | 0.00/612 [00:00<?, ?B/s]"
      ],
      "application/vnd.jupyter.widget-view+json": {
       "version_major": 2,
       "version_minor": 0,
       "model_id": "015b33e22dc0425eb0ca7d2fb8aac4c7"
      }
     },
     "metadata": {},
     "output_type": "display_data"
    },
    {
     "data": {
      "text/plain": [
       "model.safetensors:   0%|          | 0.00/90.9M [00:00<?, ?B/s]"
      ],
      "application/vnd.jupyter.widget-view+json": {
       "version_major": 2,
       "version_minor": 0,
       "model_id": "54659dc6ae214aaa93b7d051ddef03ba"
      }
     },
     "metadata": {},
     "output_type": "display_data"
    },
    {
     "data": {
      "text/plain": [
       "tokenizer_config.json:   0%|          | 0.00/350 [00:00<?, ?B/s]"
      ],
      "application/vnd.jupyter.widget-view+json": {
       "version_major": 2,
       "version_minor": 0,
       "model_id": "faf477a11c304aa085ee38c33700d077"
      }
     },
     "metadata": {},
     "output_type": "display_data"
    },
    {
     "data": {
      "text/plain": [
       "vocab.txt:   0%|          | 0.00/232k [00:00<?, ?B/s]"
      ],
      "application/vnd.jupyter.widget-view+json": {
       "version_major": 2,
       "version_minor": 0,
       "model_id": "eed3bca17f9444b7b0c29698297923bd"
      }
     },
     "metadata": {},
     "output_type": "display_data"
    },
    {
     "data": {
      "text/plain": [
       "tokenizer.json:   0%|          | 0.00/466k [00:00<?, ?B/s]"
      ],
      "application/vnd.jupyter.widget-view+json": {
       "version_major": 2,
       "version_minor": 0,
       "model_id": "49720f0ef14d4260bb871c4037abe891"
      }
     },
     "metadata": {},
     "output_type": "display_data"
    },
    {
     "data": {
      "text/plain": [
       "special_tokens_map.json:   0%|          | 0.00/112 [00:00<?, ?B/s]"
      ],
      "application/vnd.jupyter.widget-view+json": {
       "version_major": 2,
       "version_minor": 0,
       "model_id": "6fdc851130e44e408982160fd9b5ea5b"
      }
     },
     "metadata": {},
     "output_type": "display_data"
    },
    {
     "name": "stderr",
     "output_type": "stream",
     "text": [
      "C:\\Users\\shahabuddin akhon hr\\AppData\\Roaming\\Python\\Python312\\site-packages\\transformers\\tokenization_utils_base.py:1617: FutureWarning: `clean_up_tokenization_spaces` was not set. It will be set to `True` by default. This behavior will be deprecated in transformers v4.45, and will be then set to `False` by default. For more details check this issue: https://github.com/huggingface/transformers/issues/31884\n",
      "  warnings.warn(\n"
     ]
    },
    {
     "data": {
      "text/plain": [
       "1_Pooling/config.json:   0%|          | 0.00/190 [00:00<?, ?B/s]"
      ],
      "application/vnd.jupyter.widget-view+json": {
       "version_major": 2,
       "version_minor": 0,
       "model_id": "89f9b42dcd6c4cf4ae6ea42251932ebf"
      }
     },
     "metadata": {},
     "output_type": "display_data"
    }
   ],
   "execution_count": 3
  },
  {
   "metadata": {
    "ExecuteTime": {
     "end_time": "2024-11-15T05:32:11.304216Z",
     "start_time": "2024-11-15T05:32:11.300157Z"
    }
   },
   "cell_type": "code",
   "source": [
    "# Sample document content\n",
    "document_text = \"\"\"\n",
    "Organization Structure & Establishment\n",
    "Manpower Planning\n",
    "Succession Planning & Organization Review\n",
    "Minimum Standards for Employment\n",
    "Definition of Employment Status\n",
    "Recruitment and Selection\n",
    "Equal Employment Opportunity\n",
    "Employment Interview\n",
    "Pre-Placement Medical Examination\n",
    "Reference Checking\n",
    "Job Contract Contractor\n",
    "New Employee Orientation\n",
    "Employee Responsibilities & Obligations\n",
    "Standards of Conduct\n",
    "Conflict of Interest\n",
    "Attendance\n",
    "Safety\n",
    "Smoking in the Workplace\n",
    "Employee Counseling and Assistance\n",
    "Communication\n",
    "Suggestions/Ideas\n",
    "Participation Committee/Welfare Committee\n",
    "Objectives of the Committees\n",
    "Grievance Procedure\n",
    "Employee Relations\n",
    "Performance Management – Management Staff\n",
    "Training and Development\n",
    "Employees Records Privacy and Retention\n",
    "Reports, Information, and HRIS\n",
    "Compensation & Benefits\n",
    "Salary Administration\n",
    "Incentive Scheme Plan\n",
    "Loan Facilities\n",
    "Medical Benefits\n",
    "Provident Fund\n",
    "Gratuity\n",
    "Group Term & Hospital Insurance\n",
    "Car Scheme\n",
    "Transfer & Transfer Expenses\n",
    "Travel\n",
    "Standard Service Year\n",
    "Leave Entitlement\n",
    "Annual Leave\n",
    "Sick/Prolonged/Accident Leave\n",
    "Casual Leave\n",
    "Maternity Leave\n",
    "Leave Without Pay (LWP) & Unauthorized Absence\n",
    "Leave Encashment\n",
    "Over-Staying of Leave / Loss of Lien\n",
    "Employee Discipline\n",
    "Suspensions\n",
    "Compliance & Regulatory Affairs\n",
    "Stoppage of Works\n",
    "Lay Off\n",
    "Employee Separations\n",
    "Resignation\n",
    "Termination\n",
    "Dismissal\n",
    "Discharge\n",
    "Deceased Employees\n",
    "Retirement\n",
    "Redundancy\n",
    "Exit Interview\n",
    "\"\"\""
   ],
   "id": "35c997c7e37f5c8c",
   "outputs": [],
   "execution_count": 6
  },
  {
   "metadata": {
    "ExecuteTime": {
     "end_time": "2024-11-15T05:32:12.866444Z",
     "start_time": "2024-11-15T05:32:12.863087Z"
    }
   },
   "cell_type": "code",
   "source": "texts = document_text.strip().split('\\n')\n",
   "id": "af90c3c61fb6b255",
   "outputs": [],
   "execution_count": 7
  },
  {
   "metadata": {
    "ExecuteTime": {
     "end_time": "2024-11-15T05:32:21.615678Z",
     "start_time": "2024-11-15T05:32:21.450693Z"
    }
   },
   "cell_type": "code",
   "source": "embeddings = embedding_model.encode(texts)",
   "id": "d2959bd1ff13240a",
   "outputs": [],
   "execution_count": 8
  },
  {
   "metadata": {
    "ExecuteTime": {
     "end_time": "2024-11-15T05:32:36.574377Z",
     "start_time": "2024-11-15T05:32:36.113222Z"
    }
   },
   "cell_type": "code",
   "source": [
    "for i, text in enumerate(texts):\n",
    "    collection.add(\n",
    "        ids=[str(i)],  # Unique ID for each chunk\n",
    "        documents=[text],\n",
    "        embeddings=[embeddings[i]],\n",
    "        metadatas=[{'source': 'category.txt'}]  # Replace with any metadata you need\n",
    "    )\n",
    "\n",
    "print(\"Document chunks have been added to ChromaDB successfully.\")"
   ],
   "id": "6104298209902467",
   "outputs": [
    {
     "name": "stdout",
     "output_type": "stream",
     "text": [
      "Document chunks have been added to ChromaDB successfully.\n"
     ]
    }
   ],
   "execution_count": 9
  },
  {
   "metadata": {
    "ExecuteTime": {
     "end_time": "2024-11-15T05:36:55.882355Z",
     "start_time": "2024-11-15T05:36:55.848324Z"
    }
   },
   "cell_type": "code",
   "source": [
    "retriever = collection.query(\n",
    "    query_texts=[\"Tell me something about company\"],  # Your query\n",
    "    n_results=2  # Number of results you want\n",
    ")\n",
    "print(retriever['documents'][0][0])"
   ],
   "id": "7ea9836f124a05ef",
   "outputs": [
    {
     "name": "stdout",
     "output_type": "stream",
     "text": [
      "Organization Structure & Establishment\n"
     ]
    }
   ],
   "execution_count": 20
  },
  {
   "metadata": {},
   "cell_type": "code",
   "outputs": [],
   "execution_count": null,
   "source": "",
   "id": "4122ee3a37e09a9f"
  }
 ],
 "metadata": {
  "kernelspec": {
   "display_name": "Python 3",
   "language": "python",
   "name": "python3"
  },
  "language_info": {
   "codemirror_mode": {
    "name": "ipython",
    "version": 2
   },
   "file_extension": ".py",
   "mimetype": "text/x-python",
   "name": "python",
   "nbconvert_exporter": "python",
   "pygments_lexer": "ipython2",
   "version": "2.7.6"
  }
 },
 "nbformat": 4,
 "nbformat_minor": 5
}
